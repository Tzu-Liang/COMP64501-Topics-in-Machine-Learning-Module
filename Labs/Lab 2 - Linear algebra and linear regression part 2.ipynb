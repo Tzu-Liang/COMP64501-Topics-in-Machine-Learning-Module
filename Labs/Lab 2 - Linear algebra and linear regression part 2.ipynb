{
  "cells": [
    {
      "cell_type": "markdown",
      "metadata": {
        "id": "nI7H8fCqa_ms"
      },
      "source": [
        "# Linear Algebra and Linear Regression part 2\n",
        "\n",
        "\n",
        "In this second part of the Notebook, we will code linear regression using linear algebra."
      ]
    },
    {
      "cell_type": "markdown",
      "metadata": {
        "id": "0hV1bP9Da_mt"
      },
      "source": [
        "### Running Example: Olympic Marathons\n",
        "\n",
        "We load in the Olympic marathon data. This is data of the olympic marathon times for the men's marathon from the first olympics in 1896 up until the London 2012 olympics."
      ]
    },
    {
      "cell_type": "code",
      "execution_count": null,
      "metadata": {
        "id": "qhTIubZBa_mu"
      },
      "outputs": [],
      "source": [
        "import pandas as pd\n",
        "import numpy as np\n",
        "data = pd.read_csv('https://raw.githubusercontent.com/maalvarezl/MLAI/master/Labs/datasets/olympic_marathon_men.csv', header=None, encoding= 'unicode_escape')\n",
        "x = np.array(data.iloc[:, 0].values).reshape(-1,1)\n",
        "y = np.array(data.iloc[:, 1].values).reshape(-1,1)"
      ]
    },
    {
      "cell_type": "markdown",
      "metadata": {
        "id": "l0j2PUEya_mu"
      },
      "source": [
        "## Multiple Input Solution with Linear Algebra\n",
        "\n",
        "You've now seen how slow it can be to perform a coordinate ascent on a system. Another approach to solving the system (which is not always possible, particularly in *non-linear* systems) is to go directly to the minimum. To do this we need to introduce *linear algebra*. We will represent all our errors and functions in the form of linear algebra.\n",
        "\n",
        "As we mentioned above, linear algebra is just a shorthand for performing lots of multiplications and additions simultaneously. What does it have to do with our system then? Well the first thing to note is that the linear function we were trying to fit has the following form:\n",
        "$$\n",
        "f(x) = mx + c\n",
        "$$\n",
        "the classical form for a straight line. From a linear algebraic perspective we are looking for multiplications and additions. We are also looking to separate our parameters from our data. The data is the *givens* remember, in French the word is données literally translated means *givens* that's great, because we don't need to change the data, what we need to change are the parameters (or variables) of the model. In this function the data comes in through $x$, and the parameters are $m$ and $c$.\n",
        "\n",
        "What we'd like to create is a vector of parameters and a vector of data. Then we could represent the system with vectors that represent the data, and vectors that represent the parameters.\n",
        "\n",
        "We look to turn the multiplications and additions into a linear algebraic form, we have one multiplication ($m\\times c$) and one addition ($mx + c$). But we can turn this into a inner product by writing it in the following way,\n",
        "$$\n",
        "f(x) = m \\times x + c \\times 1,\n",
        "$$\n",
        "in other words we've extracted the unit value, from the offset, $c$. We can think of this unit value like an extra item of data, because it is always given to us, and it is always set to 1 (unlike regular data, which is likely to vary!). We can therefore write each input data location, $\\mathbf{x}$, as a vector\n",
        "$$\n",
        "\\mathbf{x} = \\begin{bmatrix} 1\\\\ x\\end{bmatrix}.\n",
        "$$\n",
        "\n",
        "Now we choose to also turn our parameters into a vector. The parameter vector will be defined to contain\n",
        "$$\n",
        "\\mathbf{w} = \\begin{bmatrix} c \\\\ m\\end{bmatrix}\n",
        "$$\n",
        "because if we now take the inner product between these to vectors we recover\n",
        "$$\n",
        "\\mathbf{x}\\cdot\\mathbf{w} = 1 \\times c + x \\times m = mx + c\n",
        "$$\n",
        "In `numpy` we can define this vector as follows"
      ]
    },
    {
      "cell_type": "code",
      "execution_count": null,
      "metadata": {
        "id": "8oVi4QM5a_mu"
      },
      "outputs": [],
      "source": [
        "# define the vector w\n",
        "m = -0.4\n",
        "c = 80\n",
        "w = np.zeros(shape=(2, 1))\n",
        "w[0] = m\n",
        "w[1] = c"
      ]
    },
    {
      "cell_type": "markdown",
      "metadata": {
        "id": "VFKBBgl1a_mu"
      },
      "source": [
        "This gives us the equivalence between original operation and an operation in vector space. Whilst the notation here isn't a lot shorter, the beauty is that we will be able to add as many features as we like and still keep the same representation. In general, we are now moving to a system where each of our predictions is given by an inner product. When we want to represent a linear product in linear algebra, we tend to do it with the transpose operation, so since we have $\\mathbf{a}\\cdot\\mathbf{b} = \\mathbf{a}^\\top\\mathbf{b}$ we can write\n",
        "$$\n",
        "f(\\mathbf{x}_i) = \\mathbf{x}_i^\\top\\mathbf{w}.\n",
        "$$\n",
        "Where we've assumed that each data point, $\\mathbf{x}_i$, is now written by appending a 1 onto the original vector\n",
        "$$\n",
        "\\mathbf{x}_i =\n",
        "\\begin{bmatrix}\n",
        "1 \\\\\n",
        "x_i\n",
        "\\end{bmatrix}\n",
        "$$\n",
        "\n",
        "## Design Matrix\n",
        "\n",
        "We can do this for the entire data set to form a [*design matrix*](http://en.wikipedia.org/wiki/Design_matrix) $\\mathbf{X}$,\n",
        "\n",
        "$$\\mathbf{X} = \\begin{bmatrix}\n",
        "\\mathbf{x}_1^\\top \\\\\\\n",
        "\\mathbf{x}_2^\\top \\\\\\\n",
        "\\vdots \\\\\\\n",
        "\\mathbf{x}_n^\\top\n",
        "\\end{bmatrix} = \\begin{bmatrix}\n",
        "1 & x_1 \\\\\\\n",
        "1 & x_2 \\\\\\\n",
        "\\vdots & \\vdots \\\\\\\n",
        "1 & x_n\n",
        "\\end{bmatrix},$$\n",
        "\n",
        "which in `numpy` can be done with the following commands:"
      ]
    },
    {
      "cell_type": "code",
      "execution_count": null,
      "metadata": {
        "id": "D5_dC3DEa_mv"
      },
      "outputs": [],
      "source": [
        "X = np.hstack((np.ones_like(x), x))"
      ]
    },
    {
      "cell_type": "markdown",
      "metadata": {
        "id": "7kHYyLOQa_mv"
      },
      "source": [
        "### Writing the Objective with Linear Algebra\n",
        "\n",
        "When we think of the objective function, we can think of it as the errors where the error is defined in a similar way to what it was in Legendre's day $y_i - f(\\mathbf{x}_i)$, in statistics these errors are also sometimes called [*residuals*](http://en.wikipedia.org/wiki/Errors_and_residuals_in_statistics). So we can think as the objective and the prediction function as two separate parts, first we have,\n",
        "$$\n",
        "E(\\mathbf{w}) = \\sum_{i=1}^n (y_i - f(\\mathbf{x}_i; \\mathbf{w}))^2,\n",
        "$$\n",
        "where we've made the function $f(\\cdot)$'s dependence on the parameters $\\mathbf{w}$ explicit in this equation. Then we have the definition of the function itself,\n",
        "$$\n",
        "f(\\mathbf{x}_i; \\mathbf{w}) = \\mathbf{x}_i^\\top \\mathbf{w}.\n",
        "$$\n",
        "Let's look again at these two equations and see if we can identify any inner products. The first equation is a sum of squares, which is promising. Any sum of squares can be represented by an inner product,\n",
        "$$\n",
        "a = \\sum_{i=1}^{k} b^2_i = \\mathbf{b}^\\top\\mathbf{b},\n",
        "$$\n",
        "so if we wish to represent $E(\\mathbf{w})$ in this way, all we need to do is convert the sum operator to an inner product. We can get a vector from that sum operator by placing both $y_i$ and $f(\\mathbf{x}_i; \\mathbf{w})$ into vectors, which we do by defining\n",
        "$$\n",
        "\\mathbf{y} = \\begin{bmatrix}y_1\\\\y_2\\\\ \\vdots \\\\ y_n\\end{bmatrix}\n",
        "$$\n",
        "and defining\n",
        "$$\n",
        "\\mathbf{f}(\\mathbf{X}; \\mathbf{w}) = \\begin{bmatrix}f(\\mathbf{x}_1; \\mathbf{w})\\\\f(\\mathbf{x}_2; \\mathbf{w})\\\\ \\vdots \\\\ f(\\mathbf{x}_n; \\mathbf{w})\\end{bmatrix}.\n",
        "$$\n",
        "The second of these is actually a vector-valued function. This term may appear intimidating, but the idea is straightforward. A vector valued function is simply a vector whose elements are themselves defined as *functions*, i.e. it is a vector of functions, rather than a vector of scalars. The idea is so straightforward, that we are going to ignore it for the moment, and barely use it in the derivation. But it will reappear later when we introduce *basis functions*. So we will, for the moment, ignore the dependence of $\\mathbf{f}$ on $\\mathbf{w}$ and $\\mathbf{X}$ and simply summarise it by a vector of numbers\n",
        "$$\n",
        "\\mathbf{f} = \\begin{bmatrix}f_1\\\\f_2\\\\ \\vdots \\\\ f_n\\end{bmatrix}.\n",
        "$$\n",
        "This allows us to write our objective in the folowing, linear algebraic form,\n",
        "$$\n",
        "E(\\mathbf{w}) = (\\mathbf{y} - \\mathbf{f})^\\top(\\mathbf{y} - \\mathbf{f})\n",
        "$$\n",
        "from the rules of inner products.\n",
        "\n",
        "But what of our matrix $\\mathbf{X}$ of input data? At this point, we need to dust off [*matrix-vector multiplication*](http://en.wikipedia.org/wiki/Matrix_multiplication). Matrix multiplication is simply a convenient way of performing many inner products together, and it's exactly what we need to summarise the operation\n",
        "$$\n",
        "f_i = \\mathbf{x}_i^\\top\\mathbf{w}.\n",
        "$$\n",
        "This operation tells us that each element of the vector $\\mathbf{f}$ (our vector valued function) is given by an inner product between $\\mathbf{x}_i$ and $\\mathbf{w}$. In other words it is a series of inner products. Let's look at the definition of matrix multiplication, it takes the form\n",
        "$$\n",
        "\\mathbf{c} = \\mathbf{B}\\mathbf{a}\n",
        "$$\n",
        "where $\\mathbf{c}$ might be a $k$ dimensional vector (which we can intepret as a $k\\times 1$ dimensional matrix), and $\\mathbf{B}$ is a $k\\times k$ dimensional matrix and $\\mathbf{a}$ is a $k$ dimensional vector ($k\\times 1$ dimensional matrix).\n",
        "\n",
        "The result of this multiplication is of the form\n",
        "$$\n",
        "\\begin{bmatrix}c_1\\\\c_2 \\\\ \\vdots \\\\ c_k\\end{bmatrix} =\n",
        "\\begin{bmatrix} b_{1,1} & b_{1, 2} & \\dots & b_{1, k} \\\\\n",
        "b_{2, 1} & b_{2, 2} & \\dots & b_{2, k} \\\\\n",
        "\\vdots & \\vdots & \\ddots & \\vdots \\\\\n",
        "b_{k, 1} & b_{k, 2} & \\dots & b_{k, k} \\end{bmatrix} \\begin{bmatrix}a_1\\\\a_2 \\\\ \\vdots\\\\ a_k\\end{bmatrix} = \\begin{bmatrix} b_{1, 1}a_1 + b_{1, 2}a_2 + \\dots + b_{1, k}a_k\\\\\n",
        "b_{2, 1}a_1 + b_{2, 2}a_2 + \\dots + b_{2, k}a_k \\\\\n",
        "\\vdots\\\\\n",
        "b_{k, 1}a_1 + b_{k, 2}a_2 + \\dots + b_{k, k}a_k\\end{bmatrix}\n",
        "$$\n",
        "so we see that each element of the result in $\\mathbf{c}$ is simply the inner product between each *row* of $\\mathbf{B}$ and the vector $\\mathbf{a}$. Because we have defined each element of $\\mathbf{f}$ to be given by the inner product between each *row* of the design matrix and the vector $\\mathbf{w}$ we now can write the full operation in one matrix multiplication,\n",
        "$$\n",
        "\\mathbf{f} = \\mathbf{X}\\mathbf{w}.\n",
        "$$"
      ]
    },
    {
      "cell_type": "code",
      "execution_count": null,
      "metadata": {
        "id": "au1_TNWJa_mv"
      },
      "outputs": [],
      "source": [
        "f = np.dot(X, w) # np.dot does matrix multiplication in python"
      ]
    },
    {
      "cell_type": "markdown",
      "metadata": {
        "id": "ICm78BNDa_mv"
      },
      "source": [
        "Combining this result with our objective function,\n",
        "$$\n",
        "E(\\mathbf{w}) = (\\mathbf{y} - \\mathbf{f})^\\top(\\mathbf{y} - \\mathbf{f})\n",
        "$$\n",
        "we find we have defined the *model* with two equations. One equation tells us the form of our predictive function and how it depends on its parameters, the other tells us the form of our objective function."
      ]
    },
    {
      "cell_type": "code",
      "execution_count": null,
      "metadata": {
        "id": "GypUT2FSa_mv",
        "outputId": "d33d92bd-82a7-4785-9760-f485dc661bb3"
      },
      "outputs": [
        {
          "name": "stdout",
          "output_type": "stream",
          "text": [
            "Error function is: [[6.61507248e+11]]\n"
          ]
        }
      ],
      "source": [
        "resid = (y-f)\n",
        "E = np.dot(resid.T, resid) # matrix multiplication on a single vector is equivalent to a dot product.\n",
        "print(\"Error function is:\", E)"
      ]
    },
    {
      "cell_type": "markdown",
      "metadata": {
        "id": "jriNpuIka_mv"
      },
      "source": [
        "## Objective Optimisation\n",
        "\n",
        "Our *model* has now been defined with two equations, the prediction function and the objective function. Next we will use multivariate calculus to define an *algorithm* to fit the model. The separation between model and algorithm is important and is often overlooked. Our model contains a function that shows how it will be used for prediction, and a function that describes the objective function we need to optimise to obtain a good set of parameters.\n",
        "\n",
        "The linear regression model we have described is still the same as the one we fitted above with a coordinate ascent algorithm. We have only played with the notation to obtain the same model in a matrix and vector notation. However, we will now fit this model with a different algorithm, one that is much faster. It is such a widely used algorithm that from the end user's perspective it doesn't even look like an algorithm, it just appears to be a single operation (or function). However, underneath the computer calls an algorithm to find the solution. Further, the algorithm we obtain is very widely used, and because of this it turns out to be highly optimised.\n",
        "\n",
        "Once again we are going to try and find the stationary points of our objective by finding the *stationary points*. However, the stationary points of a multivariate function, are a little bit more complext to find. Once again we need to find the point at which the derivative is zero, but now we need to use  *multivariate calculus* to find it. This involves learning a few additional rules of differentiation (that allow you to do the derivatives of a function with respect to  vector), but in the end it makes things quite a bit easier. We define vectorial derivatives as follows,\n",
        "$$\n",
        "\\frac{\\text{d}E(\\mathbf{w})}{\\text{d}\\mathbf{w}} = \\begin{bmatrix}\\frac{\\partial E(\\mathbf{w})}{\\partial w_1}\\\\\\frac{\\partial E(\\mathbf{w})}{\\partial w_2}\\end{bmatrix}.\n",
        "$$\n",
        "where $\\frac{\\partial E(\\mathbf{w})}{\\partial w_1}$ is the [partial derivative](http://en.wikipedia.org/wiki/Partial_derivative) of the error function with respect to $w_1$.\n",
        "\n",
        "Differentiation through multiplications and additions is relatively straightforward, and since linear algebra is just multiplication and addition, then its rules of diffentiation are quite straightforward too, but slightly more complex than regular derivatives.\n",
        "\n",
        "### Matrix Differentiation\n",
        "\n",
        "We will need two rules of differentiation. The first is diffentiation of an inner product. By remebering that the inner product is made up of multiplication and addition, we can hope that its derivative is quite straightforward, and so it proves to be. We can start by thinking about the definition of the inner product,\n",
        "$$\n",
        "\\mathbf{a}^\\top\\mathbf{z} = \\sum_{i} a_i z_i,\n",
        "$$\n",
        "which if we were to take the derivative with respect to $z_k$ would simply return the gradient of the one term in the sum for which the derivative was non zero, that of $a_k$, so we know that\n",
        "$$\n",
        "\\frac{\\text{d}}{\\text{d}z_k} \\mathbf{a}^\\top \\mathbf{z} = a_k\n",
        "$$\n",
        "and by our definition of multivariate derivatives we can simply stack all the partial derivatives of this form in a vector to obtain the result that\n",
        "$$\n",
        "\\frac{\\text{d}}{\\text{d}\\mathbf{z}} \\mathbf{a}^\\top \\mathbf{z} = \\mathbf{a}.\n",
        "$$\n",
        "The second rule that's required is differentiation of a 'matrix quadratic'. A scalar quadratic in $z$ with coefficient $c$ has the form $cz^2$. If $\\mathbf{z}$ is a $k\\times 1$ vector and $\\mathbf{C}$ is a $k \\times k$ *matrix* of coefficients then the matrix quadratic form is written as $\\mathbf{z}^\\top \\mathbf{C}\\mathbf{z}$, which is itself a *scalar* quantity, but it is a function of a *vector*.\n",
        "\n",
        "#### Matching Dimensions in Matrix Multiplications\n",
        "\n",
        "There's a trick for telling that it's a scalar result. When you are doing maths with matrices, it's always worth pausing to perform a quick sanity check on the dimensions. Matrix multplication only works when the dimensions match. To be precise, the 'inner' dimension of the matrix must match. What is the inner dimension. If we multiply two matrices $\\mathbf{A}$ and $\\mathbf{B}$, the first of which has $k$ rows and $\\ell$ columns and the second of which has $p$ rows and $q$ columns, then we can check whether the multiplication works by writing the dimensionalities next to each other,\n",
        "$$\n",
        "\\mathbf{A} \\mathbf{B} \\rightarrow (k \\times \\underbrace{\\ell)(p}_\\text{inner dimensions} \\times q) \\rightarrow (k\\times q).\n",
        "$$\n",
        "The inner dimensions are the two inside dimensions, $\\ell$ and $p$. The multiplication will only work if $\\ell=p$. The result of the multiplication will then be a $k\\times q$ matrix: this dimensionality comes from the 'outer dimensions'. Note that matrix multiplication is not [*commutative*](http://en.wikipedia.org/wiki/Commutative_property). And if you change the order of the multiplication,\n",
        "$$\n",
        "\\mathbf{B} \\mathbf{A} \\rightarrow (\\ell \\times \\underbrace{k)(q}_\\text{inner dimensions} \\times p) \\rightarrow (\\ell \\times p).\n",
        "$$\n",
        "firstly it may no longer even work, because now the condition is that $k=q$, and secondly the result could be of a different dimensionality. An exception is if the matrices are square matrices (e.g. same number of rows as columns) and they are both *symmetric*. A symmetric matrix is one for which $\\mathbf{A}=\\mathbf{A}^\\top$, or equivalently, $a_{i,j} = a_{j,i}$ for all $i$ and $j$.  \n",
        "\n",
        "You will need to get used to working with matrices and vectors applying and developing new machine learning techniques. You should have come across them before, but you may not have used them as extensively as we will now do in this course. You should get used to using this trick to check your work and ensure you know what the dimension of an output matrix should be. For our matrix quadratic form, it turns out that we can see it as a special type of inner product.\n",
        "$$\n",
        "\\mathbf{z}^\\top\\mathbf{C}\\mathbf{z} \\rightarrow (1\\times \\underbrace{k) (k}_\\text{inner dimensions}\\times k) (k\\times 1) \\rightarrow \\mathbf{b}^\\top\\mathbf{z}\n",
        "$$\n",
        "where $\\mathbf{b} = \\mathbf{C}\\mathbf{z}$ so therefore the result is a scalar,\n",
        "$$\n",
        "\\mathbf{b}^\\top\\mathbf{z} \\rightarrow (1\\times \\underbrace{k) (k}_\\text{inner dimensions}\\times 1) \\rightarrow (1\\times 1)\n",
        "$$\n",
        "where a $(1\\times 1)$ matrix is recognised as a scalar.\n",
        "\n",
        "This implies that we should be able to differentiate this form, and indeed the rule for its differentiation is slightly more complex than the inner product, but still quite simple,\n",
        "$$\n",
        "\\frac{\\text{d}}{\\text{d}\\mathbf{z}} \\mathbf{z}^\\top\\mathbf{C}\\mathbf{z}= \\mathbf{C}\\mathbf{z} + \\mathbf{C}^\\top \\mathbf{z}.\n",
        "$$\n",
        "Note that in the special case where $\\mathbf{C}$ is symmetric then we have $\\mathbf{C} = \\mathbf{C}^\\top$ and the derivative simplifies to\n",
        "$$\n",
        "\\frac{\\text{d}}{\\text{d}\\mathbf{z}} \\mathbf{z}^\\top\\mathbf{C}\\mathbf{z}= 2\\mathbf{C}\\mathbf{z}.\n",
        "$$\n",
        "### Differentiating the Objective\n",
        "\n",
        "First, we need to compute the full objective by substituting our prediction function into the objective function to obtain the objective in terms of $\\mathbf{w}$. Doing this we obtain\n",
        "$$\n",
        "E(\\mathbf{w})= (\\mathbf{y} - \\mathbf{X}\\mathbf{w})^\\top (\\mathbf{y} - \\mathbf{X}\\mathbf{w}).\n",
        "$$\n",
        "We now need to differentiate this *quadratic form* to find the minimum. We differentiate with respect to the *vector* $\\mathbf{w}$. But before we do that, we'll expand the brackets in the quadratic form to obtain a series of scalar terms. The rules for bracket expansion across the vectors are similar to those for the scalar system giving,\n",
        "$$\n",
        "(\\mathbf{a} - \\mathbf{b})^\\top (\\mathbf{c} - \\mathbf{d}) = \\mathbf{a}^\\top \\mathbf{c} - \\mathbf{a}^\\top \\mathbf{d} - \\mathbf{b}^\\top \\mathbf{c} + \\mathbf{b}^\\top \\mathbf{d}\n",
        "$$\n",
        "which substituting for $\\mathbf{a} = \\mathbf{c} = \\mathbf{y}$ and $\\mathbf{b}=\\mathbf{d} = \\mathbf{X}\\mathbf{w}$ gives\n",
        "$$\n",
        "E(\\mathbf{w})= \\mathbf{y}^\\top\\mathbf{y} - 2\\mathbf{y}^\\top\\mathbf{X}\\mathbf{w} + \\mathbf{w}^\\top\\mathbf{X}^\\top\\mathbf{X}\\mathbf{w}\n",
        "$$\n",
        "where we used the fact that $\\mathbf{y}^\\top\\mathbf{X}\\mathbf{w}= \\mathbf{w}^\\top\\mathbf{X}^\\top\\mathbf{y}$. Now we can use our rules of differentiation to compute the derivative of this form, which is,\n",
        "$$\n",
        "\\frac{\\text{d}}{\\text{d}\\mathbf{w}}E(\\mathbf{w})=- 2\\mathbf{X}^\\top \\mathbf{y} + 2\\mathbf{X}^\\top\\mathbf{X}\\mathbf{w},\n",
        "$$\n",
        "where we have exploited the fact that $\\mathbf{X}^\\top\\mathbf{X}$ is symmetric to obtain this result."
      ]
    },
    {
      "cell_type": "markdown",
      "metadata": {
        "id": "cGamfiQGa_mw"
      },
      "source": [
        "### Question 1\n",
        "\n",
        "Use the equivalence between our vector and our matrix formulations of linear regression, alongside our definition of vector derivates, to match the gradients we've computed directly for $\\frac{\\text{d}E(c, m)}{\\text{d}c}$ and $\\frac{\\text{d}E(c, m)}{\\text{d}m}$ to those for $\\frac{\\text{d}E(\\mathbf{w})}{\\text{d}\\mathbf{w}}$."
      ]
    },
    {
      "cell_type": "markdown",
      "metadata": {
        "id": "AZYA2oHoa_mw"
      },
      "source": [
        "#### Question 1 Answer\n",
        "\n",
        "*Double click to edit this cell and write your answer.*"
      ]
    },
    {
      "cell_type": "markdown",
      "metadata": {
        "id": "Gz_yJpffa_mw"
      },
      "source": [
        "## Update Equation for Global Optimum\n",
        "\n",
        "Once again, we need to find the minimum of our objective function. Using our likelihood for multiple input regression we can now minimize for our parameter vector $\\mathbf{w}$. Firstly, just as in the single input case, we seek stationary points by finding parameter vectors that solve for when the gradients are zero,\n",
        "$$\n",
        "\\mathbf{0}=- 2\\mathbf{X}^\\top \\mathbf{y} + 2\\mathbf{X}^\\top\\mathbf{X}\\mathbf{w},\n",
        "$$\n",
        "where $\\mathbf{0}$ is a *vector* of zeros. Rearranging this equation we find the solution to be\n",
        "$$\n",
        "\\mathbf{w} = \\left[\\mathbf{X}^\\top \\mathbf{X}\\right]^{-1} \\mathbf{X}^\\top \\mathbf{y}\n",
        "$$\n",
        "where $\\mathbf{A}^{-1}$ denotes [*matrix inverse*](http://en.wikipedia.org/wiki/Invertible_matrix).\n",
        "\n",
        "### Solving the Multivariate System\n",
        "\n",
        "The solution for $\\mathbf{w}$ is given in terms of a matrix inverse, but computation of a matrix inverse requires, in itself, an algorithm to resolve it. You'll know this if you had to invert, by hand, a $3\\times 3$ matrix in high school. From a numerical stability perspective, it is also best not to compute the matrix inverse directly, but rather to ask the computer to *solve* the  system of linear equations given by\n",
        "$$\\mathbf{X}^\\top\\mathbf{X} \\mathbf{w} = \\mathbf{X}^\\top\\mathbf{y}$$\n",
        "for $\\mathbf{w}$. This can be done in `numpy` using the command"
      ]
    },
    {
      "cell_type": "code",
      "execution_count": null,
      "metadata": {
        "id": "RdSPNga7a_mw",
        "outputId": "e65ff95b-55ac-4eb1-a018-1e7647652f25"
      },
      "outputs": [
        {
          "name": "stdout",
          "output_type": "stream",
          "text": [
            "\u001b[1;31mSignature:\u001b[0m \u001b[0mnp\u001b[0m\u001b[1;33m.\u001b[0m\u001b[0mlinalg\u001b[0m\u001b[1;33m.\u001b[0m\u001b[0msolve\u001b[0m\u001b[1;33m(\u001b[0m\u001b[0ma\u001b[0m\u001b[1;33m,\u001b[0m \u001b[0mb\u001b[0m\u001b[1;33m)\u001b[0m\u001b[1;33m\u001b[0m\u001b[1;33m\u001b[0m\u001b[0m\n",
            "\u001b[1;31mDocstring:\u001b[0m\n",
            "Solve a linear matrix equation, or system of linear scalar equations.\n",
            "\n",
            "Computes the \"exact\" solution, `x`, of the well-determined, i.e., full\n",
            "rank, linear matrix equation `ax = b`.\n",
            "\n",
            "Parameters\n",
            "----------\n",
            "a : (..., M, M) array_like\n",
            "    Coefficient matrix.\n",
            "b : {(..., M,), (..., M, K)}, array_like\n",
            "    Ordinate or \"dependent variable\" values.\n",
            "\n",
            "Returns\n",
            "-------\n",
            "x : {(..., M,), (..., M, K)} ndarray\n",
            "    Solution to the system a x = b.  Returned shape is identical to `b`.\n",
            "\n",
            "Raises\n",
            "------\n",
            "LinAlgError\n",
            "    If `a` is singular or not square.\n",
            "\n",
            "See Also\n",
            "--------\n",
            "scipy.linalg.solve : Similar function in SciPy.\n",
            "\n",
            "Notes\n",
            "-----\n",
            "\n",
            ".. versionadded:: 1.8.0\n",
            "\n",
            "Broadcasting rules apply, see the `numpy.linalg` documentation for\n",
            "details.\n",
            "\n",
            "The solutions are computed using LAPACK routine ``_gesv``.\n",
            "\n",
            "`a` must be square and of full-rank, i.e., all rows (or, equivalently,\n",
            "columns) must be linearly independent; if either is not true, use\n",
            "`lstsq` for the least-squares best \"solution\" of the\n",
            "system/equation.\n",
            "\n",
            "References\n",
            "----------\n",
            ".. [1] G. Strang, *Linear Algebra and Its Applications*, 2nd Ed., Orlando,\n",
            "       FL, Academic Press, Inc., 1980, pg. 22.\n",
            "\n",
            "Examples\n",
            "--------\n",
            "Solve the system of equations ``x0 + 2 * x1 = 1`` and ``3 * x0 + 5 * x1 = 2``:\n",
            "\n",
            ">>> a = np.array([[1, 2], [3, 5]])\n",
            ">>> b = np.array([1, 2])\n",
            ">>> x = np.linalg.solve(a, b)\n",
            ">>> x\n",
            "array([-1.,  1.])\n",
            "\n",
            "Check that the solution is correct:\n",
            "\n",
            ">>> np.allclose(np.dot(a, x), b)\n",
            "True\n",
            "\u001b[1;31mFile:\u001b[0m      c:\\users\\ssummerton\\envs\\comp24112\\lib\\site-packages\\numpy\\linalg\\linalg.py\n",
            "\u001b[1;31mType:\u001b[0m      function"
          ]
        }
      ],
      "source": [
        "np.linalg.solve?"
      ]
    },
    {
      "cell_type": "markdown",
      "metadata": {
        "id": "rKzg-hJHa_mw"
      },
      "source": [
        "so we can obtain the solution using"
      ]
    },
    {
      "cell_type": "code",
      "execution_count": null,
      "metadata": {
        "id": "icu9Y2ksa_mw",
        "outputId": "e0ec628f-e915-4666-d1e4-4db158a219c8"
      },
      "outputs": [
        {
          "name": "stdout",
          "output_type": "stream",
          "text": [
            "[[ 2.88952457e+01]\n",
            " [-1.29806477e-02]]\n"
          ]
        }
      ],
      "source": [
        "w = np.linalg.solve(np.dot(X.T, X), np.dot(X.T, y))\n",
        "print(w)"
      ]
    },
    {
      "cell_type": "markdown",
      "metadata": {
        "id": "iKid9mf8a_mw"
      },
      "source": [
        "We can map it back to the liner regression and plot the fit as follows"
      ]
    },
    {
      "cell_type": "code",
      "execution_count": null,
      "metadata": {
        "id": "iwBSb3oma_mw",
        "outputId": "8f501dcc-f722-4dfa-b201-a9f0c62c8bea"
      },
      "outputs": [
        {
          "name": "stdout",
          "output_type": "stream",
          "text": [
            "[-0.01298065]\n",
            "[28.89524568]\n"
          ]
        },
        {
          "data": {
            "text/plain": [
              "[<matplotlib.lines.Line2D at 0x16c6c5d4bb0>]"
            ]
          },
          "execution_count": 9,
          "metadata": {},
          "output_type": "execute_result"
        },
        {
          "data": {
            "image/png": "[encoded data removed]",
            "text/plain": [
              "<Figure size 640x480 with 1 Axes>"
            ]
          },
          "metadata": {},
          "output_type": "display_data"
        }
      ],
      "source": [
        "%matplotlib inline\n",
        "import pylab as plt\n",
        "m = w[1]; c=w[0]\n",
        "x_test = np.linspace(1890, 2020, 130)[:, None]\n",
        "f_test = m*x_test + c\n",
        "print(m)\n",
        "print(c)\n",
        "plt.plot(x_test, f_test, 'b-')\n",
        "plt.plot(x, y, 'rx')"
      ]
    },
    {
      "cell_type": "markdown",
      "metadata": {
        "id": "XEqG3lufa_mw"
      },
      "source": [
        "## Multivariate Linear Regression\n",
        "\n",
        "A major advantage of the new system is that we can build a linear regression on a multivariate system. The matrix calculus didn't specify what the length of the vector $\\mathbf{x}$ should be, or equivalently the size of the design matrix.\n",
        "\n",
        "### Movie Body Count Data\n",
        "\n",
        "Let's load back in the movie body count data."
      ]
    },
    {
      "cell_type": "code",
      "execution_count": null,
      "metadata": {
        "id": "wftYpAjRa_mw"
      },
      "outputs": [],
      "source": [
        "movies = pd.read_csv('https://raw.githubusercontent.com/maalvarezl/MLAI/master/Labs/datasets/film-death-counts-Python.csv',encoding= 'unicode_escape')"
      ]
    },
    {
      "cell_type": "markdown",
      "metadata": {
        "id": "TsSxJXxna_mw"
      },
      "source": [
        "Let's remind ourselves of the features we've been provided with."
      ]
    },
    {
      "cell_type": "code",
      "execution_count": null,
      "metadata": {
        "id": "PqgCpw-Xa_mw",
        "outputId": "828af240-b56f-4d45-b77c-eace14aeac0f"
      },
      "outputs": [
        {
          "name": "stdout",
          "output_type": "stream",
          "text": [
            "Film, Year, Body_Count, MPAA_Rating, Genre, Director, Actors, Length_Minutes, IMDB_Rating\n"
          ]
        }
      ],
      "source": [
        "print(', '.join(movies.columns))"
      ]
    },
    {
      "cell_type": "markdown",
      "metadata": {
        "id": "RpkOnyy4a_mx"
      },
      "source": [
        "Now we will build a design matrix based on the numeric features: year, Body_Count, Length_Minutes in an effort to predict the rating. We build the design matrix as follows:\n",
        "\n",
        "## Relation to Single Input System\n",
        "\n",
        "Bias as an additional feature."
      ]
    },
    {
      "cell_type": "code",
      "execution_count": null,
      "metadata": {
        "id": "qphSLXvha_mx"
      },
      "outputs": [],
      "source": [
        "select_features = ['Year', 'Body_Count', 'Length_Minutes']\n",
        "X = movies.loc[:, select_features]\n",
        "X['Eins'] = 1 # add a column for the offset\n",
        "y = movies[['IMDB_Rating']]"
      ]
    },
    {
      "cell_type": "markdown",
      "metadata": {
        "id": "j_3SaX-Ya_mx"
      },
      "source": [
        "Now let's perform a linear regression. But this time, we will create a pandas data frame for the result so we can store it in a form that we can visualise easily."
      ]
    },
    {
      "cell_type": "code",
      "execution_count": null,
      "metadata": {
        "id": "WO-FxFfaa_mx",
        "outputId": "ae90e6aa-bf62-4341-fc20-eb99c5e0ccb8"
      },
      "outputs": [
        {
          "data": {
            "text/html": [
              "<div>\n",
              "<style scoped>\n",
              "    .dataframe tbody tr th:only-of-type {\n",
              "        vertical-align: middle;\n",
              "    }\n",
              "\n",
              "    .dataframe tbody tr th {\n",
              "        vertical-align: top;\n",
              "    }\n",
              "\n",
              "    .dataframe thead th {\n",
              "        text-align: right;\n",
              "    }\n",
              "</style>\n",
              "<table border=\"1\" class=\"dataframe\">\n",
              "  <thead>\n",
              "    <tr style=\"text-align: right;\">\n",
              "      <th></th>\n",
              "      <th>regression_coefficient</th>\n",
              "    </tr>\n",
              "  </thead>\n",
              "  <tbody>\n",
              "    <tr>\n",
              "      <th>Year</th>\n",
              "      <td>-0.016280</td>\n",
              "    </tr>\n",
              "    <tr>\n",
              "      <th>Body_Count</th>\n",
              "      <td>-0.000995</td>\n",
              "    </tr>\n",
              "    <tr>\n",
              "      <th>Length_Minutes</th>\n",
              "      <td>0.025386</td>\n",
              "    </tr>\n",
              "    <tr>\n",
              "      <th>Eins</th>\n",
              "      <td>36.508363</td>\n",
              "    </tr>\n",
              "  </tbody>\n",
              "</table>\n",
              "</div>"
            ],
            "text/plain": [
              "                regression_coefficient\n",
              "Year                         -0.016280\n",
              "Body_Count                   -0.000995\n",
              "Length_Minutes                0.025386\n",
              "Eins                         36.508363"
            ]
          },
          "execution_count": 13,
          "metadata": {},
          "output_type": "execute_result"
        }
      ],
      "source": [
        "import pandas as pd\n",
        "w = pd.DataFrame(data=np.linalg.solve(np.dot(X.T, X), np.dot(X.T, y)),  # solve linear regression here\n",
        "                 index = X.columns,  # columns of X become rows of w\n",
        "                 columns=['regression_coefficient']) # the column of X is the value of regression coefficient\n",
        "w"
      ]
    },
    {
      "cell_type": "markdown",
      "metadata": {
        "id": "Of2Waa1oa_mx"
      },
      "source": [
        "We can check the residuals to see how good our estimates are"
      ]
    },
    {
      "cell_type": "code",
      "execution_count": null,
      "metadata": {
        "id": "CxZGVsZNa_mx",
        "outputId": "4eb1c5d4-797d-4b08-fa58-9d2024694fce"
      },
      "outputs": [
        {
          "data": {
            "text/plain": [
              "array([[<Axes: title={'center': 'IMDB_Rating'}>]], dtype=object)"
            ]
          },
          "execution_count": 14,
          "metadata": {},
          "output_type": "execute_result"
        },
        {
          "data": {
            "image/png": "[encoded data removed]",
            "text/plain": [
              "<Figure size 640x480 with 1 Axes>"
            ]
          },
          "metadata": {},
          "output_type": "display_data"
        }
      ],
      "source": [
        "(y - np.dot(X, w)).hist()"
      ]
    },
    {
      "cell_type": "markdown",
      "metadata": {
        "id": "N7Shl0FWa_mx"
      },
      "source": [
        "Which shows our model *hasn't* yet done a great job of representation, because the spread of values is large. We can check what the rating is dominated by in terms of regression coefficients."
      ]
    },
    {
      "cell_type": "code",
      "execution_count": null,
      "metadata": {
        "id": "Voa9CfxCa_mx",
        "outputId": "7c734f68-cdbb-4b88-f457-c3ef395f12ee"
      },
      "outputs": [
        {
          "data": {
            "text/html": [
              "<div>\n",
              "<style scoped>\n",
              "    .dataframe tbody tr th:only-of-type {\n",
              "        vertical-align: middle;\n",
              "    }\n",
              "\n",
              "    .dataframe tbody tr th {\n",
              "        vertical-align: top;\n",
              "    }\n",
              "\n",
              "    .dataframe thead th {\n",
              "        text-align: right;\n",
              "    }\n",
              "</style>\n",
              "<table border=\"1\" class=\"dataframe\">\n",
              "  <thead>\n",
              "    <tr style=\"text-align: right;\">\n",
              "      <th></th>\n",
              "      <th>regression_coefficient</th>\n",
              "    </tr>\n",
              "  </thead>\n",
              "  <tbody>\n",
              "    <tr>\n",
              "      <th>Year</th>\n",
              "      <td>-0.016280</td>\n",
              "    </tr>\n",
              "    <tr>\n",
              "      <th>Body_Count</th>\n",
              "      <td>-0.000995</td>\n",
              "    </tr>\n",
              "    <tr>\n",
              "      <th>Length_Minutes</th>\n",
              "      <td>0.025386</td>\n",
              "    </tr>\n",
              "    <tr>\n",
              "      <th>Eins</th>\n",
              "      <td>36.508363</td>\n",
              "    </tr>\n",
              "  </tbody>\n",
              "</table>\n",
              "</div>"
            ],
            "text/plain": [
              "                regression_coefficient\n",
              "Year                         -0.016280\n",
              "Body_Count                   -0.000995\n",
              "Length_Minutes                0.025386\n",
              "Eins                         36.508363"
            ]
          },
          "execution_count": 15,
          "metadata": {},
          "output_type": "execute_result"
        }
      ],
      "source": [
        "w"
      ]
    },
    {
      "cell_type": "markdown",
      "metadata": {
        "id": "O3OCtT9xa_mx"
      },
      "source": [
        "Although we have to be a little careful about interpretation because our input values live on different scales, however it looks like we are dominated by the bias, with a small negative effect for later films (but bear in mind the years are large, so this effect is probably larger than it looks) and a positive effect for length. So it looks like long earlier films generally do better, but the residuals are so high that we probably haven't modelled the system very well."
      ]
    },
    {
      "cell_type": "markdown",
      "metadata": {
        "id": "On7lX-g4a_mx"
      },
      "source": [
        "## Solution with QR Decomposition\n",
        "\n",
        "Performing a solve instead of a matrix inverse is the more numerically stable approach, but we can do even better. A [QR-decomposition](http://en.wikipedia.org/wiki/QR_decomposition) of a matrix factorises it into a matrix which is an orthogonal matrix $\\mathbf{Q}$, so that $\\mathbf{Q}^\\top \\mathbf{Q} = \\mathbf{I}$. And a matrix which is upper triangular, $\\mathbf{R}$.\n",
        "$$\n",
        "\\mathbf{X}^\\top \\mathbf{X} \\boldsymbol{\\beta} = \\mathbf{X}^\\top \\mathbf{y}\n",
        "$$\n",
        "$$\n",
        "(\\mathbf{Q}\\mathbf{R})^\\top (\\mathbf{Q}\\mathbf{R})\\boldsymbol{\\beta} = (\\mathbf{Q}\\mathbf{R})^\\top \\mathbf{y}\n",
        "$$\n",
        "$$\n",
        "\\mathbf{R}^\\top (\\mathbf{Q}^\\top \\mathbf{Q}) \\mathbf{R} \\boldsymbol{\\beta} = \\mathbf{R}^\\top \\mathbf{Q}^\\top \\mathbf{y}\n",
        "$$\n",
        "$$\n",
        "\\mathbf{R}^\\top \\mathbf{R} \\boldsymbol{\\beta} = \\mathbf{R}^\\top \\mathbf{Q}^\\top \\mathbf{y}\n",
        "$$\n",
        "$$\n",
        "\\mathbf{R} \\boldsymbol{\\beta} = \\mathbf{Q}^\\top \\mathbf{y}\n",
        "$$\n",
        "This is a more numerically stable solution because it removes the need to compute $\\mathbf{X}^\\top\\mathbf{X}$ as an intermediate. Computing $\\mathbf{X}^\\top\\mathbf{X}$ is a bad idea because it involves squaring all the elements of $\\mathbf{X}$ and thereby potentially reducing the numerical precision with which we can represent the solution. Operating on $\\mathbf{X}$ directly preserves the numerical precision of the model.\n",
        "\n",
        "This can be more particularly seen when we begin to work with *basis functions* in the next week. Some systems that can be resolved with the QR decomposition can not be resolved by using solve directly."
      ]
    },
    {
      "cell_type": "code",
      "execution_count": null,
      "metadata": {
        "id": "AuDywt3wa_mx",
        "outputId": "96df1751-a707-4f5d-88a1-8c25804f3bc7"
      },
      "outputs": [
        {
          "data": {
            "text/html": [
              "<div>\n",
              "<style scoped>\n",
              "    .dataframe tbody tr th:only-of-type {\n",
              "        vertical-align: middle;\n",
              "    }\n",
              "\n",
              "    .dataframe tbody tr th {\n",
              "        vertical-align: top;\n",
              "    }\n",
              "\n",
              "    .dataframe thead th {\n",
              "        text-align: right;\n",
              "    }\n",
              "</style>\n",
              "<table border=\"1\" class=\"dataframe\">\n",
              "  <thead>\n",
              "    <tr style=\"text-align: right;\">\n",
              "      <th></th>\n",
              "      <th>0</th>\n",
              "    </tr>\n",
              "  </thead>\n",
              "  <tbody>\n",
              "    <tr>\n",
              "      <th>Year</th>\n",
              "      <td>-0.016280</td>\n",
              "    </tr>\n",
              "    <tr>\n",
              "      <th>Body_Count</th>\n",
              "      <td>-0.000995</td>\n",
              "    </tr>\n",
              "    <tr>\n",
              "      <th>Length_Minutes</th>\n",
              "      <td>0.025386</td>\n",
              "    </tr>\n",
              "    <tr>\n",
              "      <th>Eins</th>\n",
              "      <td>36.508363</td>\n",
              "    </tr>\n",
              "  </tbody>\n",
              "</table>\n",
              "</div>"
            ],
            "text/plain": [
              "                        0\n",
              "Year            -0.016280\n",
              "Body_Count      -0.000995\n",
              "Length_Minutes   0.025386\n",
              "Eins            36.508363"
            ]
          },
          "execution_count": 16,
          "metadata": {},
          "output_type": "execute_result"
        }
      ],
      "source": [
        "import scipy.linalg as linalg\n",
        "Q, R = np.linalg.qr(X)\n",
        "w = linalg.solve_triangular(R, np.dot(Q.T, y))\n",
        "w = pd.DataFrame(w, index=X.columns)\n",
        "w"
      ]
    },
    {
      "cell_type": "code",
      "execution_count": null,
      "metadata": {
        "id": "yPqXI4Wha_my"
      },
      "outputs": [],
      "source": [
        "# Initial code: it uses pods.notebook.display_prediction, but with a minor modification to\n",
        "# allow the use of ipywidgets\n",
        "from ipywidgets import *\n",
        "def display_prediction(basis, num_basis=4, wlim=(-1.,1.), fig=None, ax=None, xlim=None, ylim=None, num_points=1000, offset=0.0, **kwargs):\n",
        "    \"\"\"Interactive widget for displaying a prediction function based on summing separate basis functions.\n",
        "    :param basis: a function handle that calls the basis functions.\n",
        "    :type basis: function handle.\n",
        "    :param xlim: limits of the x axis to use.\n",
        "    :param ylim: limits of the y axis to use.\n",
        "    :param wlim: limits for the basis function weights.\"\"\"\n",
        "\n",
        "    #import numpy as np\n",
        "    #import pylab as plt\n",
        "\n",
        "    if fig is not None:\n",
        "        if ax is None:\n",
        "            ax = fig.gca()\n",
        "\n",
        "    if xlim is None:\n",
        "        if ax is not None:\n",
        "            xlim = ax.get_xlim()\n",
        "        else:\n",
        "            xlim = (-2., 2.)\n",
        "    if ylim is None:\n",
        "        if ax is not None:\n",
        "            ylim = ax.get_ylim()\n",
        "        else:\n",
        "            ylim = (-1., 1.)\n",
        "\n",
        "    # initialise X and set up W arguments.\n",
        "    x = np.zeros((num_points, 1))\n",
        "    x[:, 0] = np.linspace(xlim[0], xlim[1], num_points)\n",
        "    param_args = {}\n",
        "    for i in range(num_basis):\n",
        "        lim = list(wlim)\n",
        "        if i ==0:\n",
        "            lim[0] += offset\n",
        "            lim[1] += offset\n",
        "        param_args['w_' + str(i)] = tuple(lim)\n",
        "\n",
        "    # helper function for making basis prediction.\n",
        "    def predict_basis(w, basis, x, num_basis, **kwargs):\n",
        "        Phi = basis(x, num_basis, **kwargs)\n",
        "        f = np.dot(Phi, w)\n",
        "        return f, Phi\n",
        "\n",
        "    if type(basis) is dict:\n",
        "        use_basis = basis[list(basis.keys())[0]]\n",
        "    else:\n",
        "        use_basis = basis\n",
        "    f, Phi = predict_basis(np.zeros((num_basis, 1)),\n",
        "                           use_basis, x, num_basis,\n",
        "                           **kwargs)\n",
        "    if fig is None:\n",
        "        fig, ax=plt.subplots(figsize=(12,4))\n",
        "        ax.set_ylim(ylim)\n",
        "        ax.set_xlim(xlim)\n",
        "\n",
        "    predline = ax.plot(x, f, linewidth=2)[0]\n",
        "    basislines = []\n",
        "    for i in range(num_basis):\n",
        "        basislines.append(ax.plot(x, Phi[:, i], 'r')[0])\n",
        "\n",
        "    ax.set_ylim(ylim)\n",
        "    ax.set_xlim(xlim)\n",
        "\n",
        "    def generate_function(basis, num_basis, predline, basislines, basis_args, display_basis, offset, **kwargs):\n",
        "        w = np.zeros((num_basis, 1))\n",
        "        for i in range(num_basis):\n",
        "            w[i] = kwargs['w_'+ str(i)]\n",
        "        f, Phi = predict_basis(w, basis, x, num_basis, **basis_args)\n",
        "        predline.set_xdata(x[:, 0])\n",
        "        predline.set_ydata(f)\n",
        "        for i in range(num_basis):\n",
        "            basislines[i].set_xdata(x[:, 0])\n",
        "            basislines[i].set_ydata(Phi[:, i])\n",
        "\n",
        "        if display_basis:\n",
        "            for i in range(num_basis):\n",
        "                basislines[i].set_alpha(1) # make visible\n",
        "        else:\n",
        "            for i in range(num_basis):\n",
        "                basislines[i].set_alpha(0)\n",
        "        display(fig)\n",
        "    if type(basis) is not dict:\n",
        "        basis = fixed(basis)\n",
        "\n",
        "    plt.close(fig)\n",
        "    interact(generate_function,\n",
        "             basis=basis,\n",
        "             num_basis=fixed(num_basis),\n",
        "             predline=fixed(predline),\n",
        "             basislines=fixed(basislines),\n",
        "             basis_args=fixed(kwargs),\n",
        "             offset = fixed(offset),\n",
        "             display_basis = False,\n",
        "             **param_args)"
      ]
    },
    {
      "cell_type": "markdown",
      "metadata": {
        "id": "pDsGoCKOa_my"
      },
      "source": [
        "## Basis Functions\n",
        "\n",
        "We've now seen how we may perform linear regression. Now, we are going to consider how we can perform *non-linear* regression. However, before we get into the details of how to do that we first need to consider in what ways the regression can be non-linear.\n",
        "\n",
        "Multivariate linear regression allows us to build models that take many features into account when making our prediction. In this session we are going to introduce *basis functions*. The term seems complicated, but they are actually based on rather a simple idea. If we are doing a multivariate linear regression, we get extra features that *might* help us predict our required response variable (or target value), $y$. But what if we only have one input value? We can actually artificially generate more input values with basis functions.\n",
        "\n",
        "### Non-linear in the Inputs\n",
        "\n",
        "When we refer to non-linear regression, we are normally referring to whether the regression is non-linear in the input space, or non-linear in the *covariates*. The covariates are the observations that move with the target (or *response*) variable. In our notation we have been using $\\mathbf{x}_i$ to represent a vector of the covariates associated with the $i$th observation. The coresponding response variable is $y_i$. If a model is non-linear in the inputs, it means that there is a non-linear function between the inputs and the response variable. Linear functions are functions that only involve multiplication and addition, in other words they can be represented through *linear algebra*. Linear regression involves assuming that a function takes the form\n",
        "$$\n",
        "f(\\mathbf{x}) = \\mathbf{w}^\\top \\mathbf{x}\n",
        "$$\n",
        "where $\\mathbf{w}$ are our regression weights. A very easy way to make the linear regression non-linear is to introduce non-linear functions. When we are introducing non-linear regression these functions are known as *basis functions*.\n",
        "\n",
        "### Basis Functions\n",
        "\n",
        "Here's the idea, instead of working directly on the original input space, $\\mathbf{x}$, we build models in a new space, $\\boldsymbol{\\phi}(\\mathbf{x})$ where $\\boldsymbol{\\phi}(\\cdot)$ is a *vector valued* function that is defined on the space $\\mathbf{x}$.\n",
        "\n",
        "Remember, that a vector valued function is just a vector that contains functions instead of values. Here's an example for a one dimensional input space, $x$, being projected to a *quadratic* basis. First we consider each basis function in turn, we can think of the elements of our vector as being indexed so that we have\n",
        "\\begin{align*}\n",
        "\\phi_1(x) = 1, \\\\\n",
        "\\phi_2(x) = x, \\\\\n",
        "\\phi_3(x) = x^2.\n",
        "\\end{align*}\n",
        "Now we can consider them together by placing them in a vector,\n",
        "$$\n",
        "\\boldsymbol{\\phi}(x) = \\begin{bmatrix} 1\\\\ x \\\\ x^2\\end{bmatrix}.\n",
        "$$\n",
        "This is the idea of the vector valued function, we have simply collected the different functions together in the same vector making them notationally easier to deal with in our mathematics.\n",
        "\n",
        "When we consider the vector valued function for each data point, then we place all the data into a matrix. The result is a matrix valued function,\n",
        "$$\n",
        "\\boldsymbol{\\Phi}(\\mathbf{x}) =\n",
        "\\begin{bmatrix} 1 & x_1 & x_1^2 \\\\\n",
        "1 & x_2 & x_2^2\\\\\n",
        "\\vdots & \\vdots & \\vdots \\\\\n",
        "1 & x_n & x_n^2\n",
        "\\end{bmatrix}\n",
        "$$\n",
        "where we are still in the one dimensional input setting so $\\mathbf{x}$ here represents a vector of our inputs with $n$ elements.\n"
      ]
    },
    {
      "cell_type": "markdown",
      "metadata": {
        "id": "p8QotArea_my"
      },
      "source": [
        "The polynomial basis extends the quadratic basis to arbitrary degree, so we might define the $j$th basis function associated with the model as\n",
        "$$\n",
        "\\phi_j(x_i) = x_i^j\n",
        "$$\n",
        "which can be implemented as a function in code as follows"
      ]
    },
    {
      "cell_type": "code",
      "execution_count": null,
      "metadata": {
        "id": "PWc2epSha_my"
      },
      "outputs": [],
      "source": [
        "def polynomial(x, num_basis=4, data_limits=[-1., 1.]):\n",
        "    Phi = np.zeros((x.shape[0], num_basis))\n",
        "    for i in range(num_basis):\n",
        "        Phi[:, i:i+1] = x**i\n",
        "    return Phi"
      ]
    },
    {
      "cell_type": "markdown",
      "metadata": {
        "id": "N3RoNt_5a_my"
      },
      "source": [
        "To aid in understanding how a basis works, we've provided you with a small interactive tool for exploring this polynomial basis. The tool can be summoned with the following command."
      ]
    },
    {
      "cell_type": "markdown",
      "metadata": {
        "id": "8wrpJ11ja_my"
      },
      "source": [
        "**Note** if this cell doesn't show sliders for you, the you may need to save your notebook and shut down the jupyter server in the terminal then run `jupyter nbextension enable --py widgetsnbextension`, the resart you notebook and run all the cells up to here.\n",
        "\n",
        "See [this page](https://stackoverflow.com/questions/36351109/ipython-notebook-ipywidgets-does-not-show) for more details."
      ]
    },
    {
      "cell_type": "code",
      "execution_count": null,
      "metadata": {
        "id": "dnsDg6BWa_my",
        "outputId": "ce23c281-d167-44bb-8593-4d8852c37dcd",
        "colab": {
          "referenced_widgets": [
            "636b8329fb6d43cd902baa88d4ee946e"
          ]
        }
      },
      "outputs": [
        {
          "data": {
            "application/vnd.jupyter.widget-view+json": {
              "model_id": "636b8329fb6d43cd902baa88d4ee946e",
              "version_major": 2,
              "version_minor": 0
            },
            "text/plain": [
              "interactive(children=(Checkbox(value=False, description='display_basis'), FloatSlider(value=0.0, description='…"
            ]
          },
          "metadata": {},
          "output_type": "display_data"
        }
      ],
      "source": [
        "display_prediction(basis=polynomial, num_basis=4, ylim=[-3.,3])"
      ]
    },
    {
      "cell_type": "markdown",
      "metadata": {
        "id": "qJUL1GXNa_my"
      },
      "source": [
        "Try moving the sliders around to change the weight of each basis function. Click the control box `display_basis` to show the underlying basis functions (in red). The prediction function is shown in a thick blue line. *Warning* the sliders aren't presented quite in the correct order. `w_0` is associated with the bias, `w_1` is the linear term, `w_2` the quadratic and here (because we have four basis functions) we have `w_3` for the *cubic* term. So the subscript of the weight parameter is always associated with the corresponding polynomial's degree."
      ]
    },
    {
      "cell_type": "markdown",
      "metadata": {
        "id": "JxpF2-pHa_my"
      },
      "source": [
        "### Question 2\n",
        "\n",
        "Try increasing the number of basis functions (thereby increasing the *degree* of the resulting polynomial). Describe what you see as you increase number of basis up to 10. Is it easy to change the function in intuitive ways? For example, if you want to manually set the weights $\\mathbf{w}$ for a particular training dataset?"
      ]
    },
    {
      "cell_type": "code",
      "execution_count": null,
      "metadata": {
        "id": "9sJSoX7ta_my"
      },
      "outputs": [],
      "source": [
        "## Question 2 Answer code"
      ]
    },
    {
      "cell_type": "markdown",
      "metadata": {
        "id": "a64KolfBa_mz"
      },
      "source": [
        "#### Question 2 Answer\n",
        "\n",
        "*Double click to edit this cell and write your answer.*"
      ]
    },
    {
      "cell_type": "markdown",
      "metadata": {
        "id": "CeLDaxpHa_mz"
      },
      "source": [
        "### Fitting to Data\n",
        "\n",
        "Now we are going to consider how these basis functions can be adjusted to fit to a particular data set. We return to the olympic marathon data. First we will scale the output of the data to be zero mean and variance 1."
      ]
    },
    {
      "cell_type": "code",
      "execution_count": null,
      "metadata": {
        "id": "TRT0XTL0a_mz"
      },
      "outputs": [],
      "source": [
        "data = pd.read_csv('https://raw.githubusercontent.com/maalvarezl/MLAI/master/Labs/datasets/olympic_marathon_men.csv', header=None, encoding= 'unicode_escape')\n",
        "x = np.array(data.iloc[:, 0].values).reshape(-1,1)\n",
        "y = np.array(data.iloc[:, 1].values).reshape(-1,1)\n",
        "y -= y.mean()\n",
        "y /= y.std()"
      ]
    },
    {
      "cell_type": "markdown",
      "metadata": {
        "id": "xnJadOZ9a_mz"
      },
      "source": [
        "### Question 3\n",
        "\n",
        "Now we are going to redefine our polynomial basis. Have a careful look at the operations we perform on `x` to create `z`. We use `z` in the polynomial computation. What are we doing to the inputs? Why do you think we are changing `x` in this manner?"
      ]
    },
    {
      "cell_type": "code",
      "execution_count": null,
      "metadata": {
        "id": "sfwL_ijGa_mz"
      },
      "outputs": [],
      "source": [
        "def polynomial(x, num_basis=4, data_limits=[-1., 1.]):\n",
        "    \"Polynomial basis\"\n",
        "    centre = data_limits[0]/2. + data_limits[1]/2.\n",
        "    span = data_limits[1] - data_limits[0]\n",
        "    z = x - centre\n",
        "    z = 2*z/span\n",
        "    Phi = np.zeros((x.shape[0], num_basis))\n",
        "    for i in range(num_basis):\n",
        "        Phi[:, i:i+1] = z**i\n",
        "    return Phi"
      ]
    },
    {
      "cell_type": "markdown",
      "metadata": {
        "id": "N097NMm1a_mz"
      },
      "source": [
        "#### Question 3 Answer\n",
        "\n",
        "*Double click to edit this cell and write your answer.*"
      ]
    },
    {
      "cell_type": "markdown",
      "metadata": {
        "id": "mzcViqfQa_mz"
      },
      "source": [
        "We like to make use of *design* matrices for our data. Design matrices, as you will recall, involve placing the data points into rows of the matrix and data features into the columns of the matrix. By convention, we are referencing a vector with a bold lower case letter, and a matrix with a bold upper case letter. The design matrix is therefore given by\n",
        "$$\n",
        "\\boldsymbol{\\Phi} = \\begin{bmatrix} 1 & \\mathbf{x} & \\mathbf{x}^2\\end{bmatrix}\n",
        "$$\n",
        "\n",
        "\n",
        "### Non-linear but linear in the Parameters\n",
        "\n",
        "One rather nice aspect of our model is that whilst it is non-linear in the inputs, it is still linear in the parameters $\\mathbf{w}$. This means that our derivations from before continue to operate to allow us to work with this model. In fact, although this is a non-linear regression it is still known as a *linear model* because it is linear in the parameters,\n",
        "$$\n",
        "f(\\mathbf{x}) = \\mathbf{w}^\\top \\boldsymbol{\\phi}(\\mathbf{x})\n",
        "$$\n",
        "where the vector $\\mathbf{x}$ appears inside the basis functions, making our result, $f(\\mathbf{x})$ non-linear in the inputs, but $\\mathbf{w}$ appears outside our basis function, making our result *linear* in the parameters. In practice, our basis function itself may contain its own set of parameters,\n",
        "$$\n",
        "f(\\mathbf{x}) = \\mathbf{w}^\\top \\boldsymbol{\\phi}(\\mathbf{x}; \\boldsymbol{\\theta}),\n",
        "$$\n",
        "that we've denoted here as $\\boldsymbol{\\theta}$. If these parameters appear inside the basis function then our model is *non-linear* in these parameters."
      ]
    },
    {
      "cell_type": "markdown",
      "metadata": {
        "id": "aj6VW8qsa_mz"
      },
      "source": [
        "### Question 4\n",
        "For the following prediction functions state whether the model is linear in the inputs, the parameters or both.\n",
        "\n",
        "(a) $f(x) = w_1x_1 + w_2$\n",
        "\n",
        "(b) $f(x) = w_1\\exp(x_1) + w_2x_2 + w_3$\n",
        "\n",
        "(c) $f(x) = \\log(x_1^{w_1}) + w_2x_2^2 + w_3$\n",
        "\n",
        "(d) $f(x) = \\exp(-\\sum_i(x_i - w_i)^2)$\n",
        "\n",
        "(e) $f(x) = \\exp(-\\mathbf{w}^\\top \\mathbf{x})$"
      ]
    },
    {
      "cell_type": "markdown",
      "metadata": {
        "id": "_DZ04J1Za_mz"
      },
      "source": [
        "#### Question 4 Answer\n",
        "\n",
        "*Double click to edit this cell and write your answer.*"
      ]
    },
    {
      "cell_type": "markdown",
      "metadata": {
        "id": "_vyIbmrSa_mz"
      },
      "source": [
        "### Fitting the Model Yourself\n",
        "\n",
        "You now have everything you need to fit a non-linear (in the inputs) basis function model to the marathon data."
      ]
    },
    {
      "cell_type": "markdown",
      "metadata": {
        "id": "PpUnyWjKa_mz"
      },
      "source": [
        "### Question 5\n",
        "\n",
        "For this question, use the polynomial basis function. Compute the design matrix on the covariates (or input data), `x`. Use the design matrix and the response variable `y` to solve the following linear system for the model parameters `w`.\n",
        "$$\n",
        "\\boldsymbol{\\Phi}^\\top\\boldsymbol{\\Phi}\\mathbf{w} = \\boldsymbol{\\Phi}^\\top \\mathbf{y}\n",
        "$$\n",
        "Compute the corresponding error on the training data. How does it compare to the error you were able to achieve using the linear model with respect to the inputs? Plot the form of your prediction function from the least squares estimate."
      ]
    },
    {
      "cell_type": "code",
      "execution_count": null,
      "metadata": {
        "id": "vxoj8HACa_mz"
      },
      "outputs": [],
      "source": [
        "# Question 5 Answer Code\n",
        "# Write code for you answer to this question in this box"
      ]
    }
  ],
  "metadata": {
    "kernelspec": {
      "display_name": "COMP24112",
      "language": "python",
      "name": "python3"
    },
    "language_info": {
      "codemirror_mode": {
        "name": "ipython",
        "version": 3
      },
      "file_extension": ".py",
      "mimetype": "text/x-python",
      "name": "python",
      "nbconvert_exporter": "python",
      "pygments_lexer": "ipython3",
      "version": "3.10.10"
    },
    "colab": {
      "provenance": []
    }
  },
  "nbformat": 4,
  "nbformat_minor": 0
}